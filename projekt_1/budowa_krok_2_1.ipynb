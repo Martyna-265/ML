{
 "cells": [
  {
   "cell_type": "code",
   "execution_count": 20,
   "id": "2f3b562f-d6d9-40fc-9d07-70b7a055798e",
   "metadata": {},
   "outputs": [],
   "source": [
    "import pandas as pd\n",
    "import numpy as np\n",
    "import sklearn \n",
    "import seaborn as sns\n",
    "import matplotlib.pyplot as plt\n",
    "import matplotlib\n",
    "import warnings\n",
    "warnings.filterwarnings('ignore')\n",
    "np.random.seed(32)\n",
    "from sklearn.model_selection import train_test_split\n",
    "from scipy.stats import chi2_contingency\n",
    "import pickle\n",
    "from sklearn.preprocessing import StandardScaler, OneHotEncoder\n",
    "from sklearn.compose import ColumnTransformer\n",
    "from sklearn.pipeline import Pipeline\n",
    "from sklearn.base import BaseEstimator, TransformerMixin"
   ]
  },
  {
   "cell_type": "code",
   "execution_count": 107,
   "id": "76ccb3ec-8bd8-4af2-84ec-c1b8e6b815ef",
   "metadata": {},
   "outputs": [],
   "source": [
    "with open(\"train.pkl\", \"rb\") as f:\n",
    "    X_train, y_train = pickle.load(f)"
   ]
  },
  {
   "cell_type": "code",
   "execution_count": 108,
   "id": "5ba4d31d-5d8b-4532-8ca4-a51835a2cf5c",
   "metadata": {},
   "outputs": [
    {
     "data": {
      "text/plain": [
       "49000"
      ]
     },
     "execution_count": 108,
     "metadata": {},
     "output_type": "execute_result"
    }
   ],
   "source": [
    "X_train.head()\n",
    "len(X_train)"
   ]
  },
  {
   "cell_type": "code",
   "execution_count": 109,
   "id": "4e817ae3",
   "metadata": {},
   "outputs": [],
   "source": [
    "class SmokingImputer(BaseEstimator, TransformerMixin):\n",
    "    def __init__(self):\n",
    "        self.distribution_with_never = None\n",
    "        self.distribution_without_never = None\n",
    "\n",
    "    def fit(self, X, y=None):\n",
    "        self.distribution_without_never = X.loc[~X['smoking_history'].isin(['No Info', 'never']), 'smoking_history'].value_counts(normalize=True)\n",
    "        self.distribution_with_never = X.loc[~X['smoking_history'].isin(['No Info']), 'smoking_history'].value_counts(normalize=True)\n",
    "        return self\n",
    "\n",
    "    def transform(self, X):\n",
    "        # TODO dodac opje do uzywania with never\n",
    "\n",
    "        X.loc[(X['smoking_history'] == 'No Info'), 'smoking_history'] = np.random.choice(\n",
    "            self.distribution_without_never.index, \n",
    "            size=len(X[(X['smoking_history'] == 'No Info')]), \n",
    "            p=self.distribution_without_never.values\n",
    "            )\n",
    "        return X\n",
    "    \n",
    "    def get_feature_names_out(self, input_features=None):\n",
    "        return ['smoking_history']\n"
   ]
  },
  {
   "cell_type": "code",
   "execution_count": 110,
   "id": "16020791-b9bd-4066-bbf3-71ac1fc4527d",
   "metadata": {},
   "outputs": [
    {
     "name": "stdout",
     "output_type": "stream",
     "text": [
      "[[0.0 0.0 0.0 0.0 1.0 -1.5046162719441207 -1.1224795416193598\n",
      "  0.25410474332526123 0.41847133475057363 0.0 1.0 0 0\n",
      "  'Young patient, generally lower risk but needs lifestyle assessment. Healthy BMI range. Elevated blood glucose levels, potential diabetes concern. History of smoking, potential lung and vascular health impact. Consideration for metabolic syndrome and Type 2 diabetes.']\n",
      " [0.0 0.0 0.0 0.0 1.0 -0.6594133233661283 -0.7983636052038867\n",
      "  -0.49593523546697077 0.05062294505772955 0.0 1.0 0 0\n",
      "  'Healthy BMI range. Elevated blood glucose levels, potential diabetes concern. History of smoking, potential lung and vascular health impact. Consideration for metabolic syndrome and Type 2 diabetes.']\n",
      " [0.0 1.0 0.0 0.0 0.0 -1.771522466231908 -1.2913213317520718\n",
      "  -1.433485208957261 0.5410874646481884 0.0 1.0 0 0\n",
      "  'Young patient, generally lower risk but needs lifestyle assessment. Healthy BMI range. Elevated blood glucose levels, potential diabetes concern. History of smoking, potential lung and vascular health impact. Higher predisposition to hypertension and diabetes.']\n",
      " [0.0 0.0 1.0 0.0 0.0 -1.4156475405148585 -0.6310293310545023\n",
      "  0.5353697353723481 -0.19460931473749984 0.0 1.0 0 0\n",
      "  'Young patient, generally lower risk but needs lifestyle assessment. Healthy BMI range. Elevated blood glucose levels, potential diabetes concern. History of smoking, potential lung and vascular health impact.']\n",
      " [1.0 0.0 0.0 0.0 0.0 0.2747583566411266 0.7634229535236973\n",
      "  0.9103897247684646 -1.4207706137136469 0.0 1.0 0 0\n",
      "  'Obese category, increased risk for diabetes and cardiovascular disease. High HbA1c level, indicative of diabetes or poor glucose control.']]\n"
     ]
    }
   ],
   "source": [
    "drop_cols = ['year', 'location']\n",
    "race_cols = [col for col in X_train.columns if col.startswith('race')]\n",
    "drop_cols.extend(race_cols)\n",
    "\n",
    "bin_features = ['hypertension', 'heart_disease']\n",
    "num_features = ['age', 'bmi', 'hbA1c_level', 'blood_glucose_level']\n",
    "cat_features = ['gender'] # + smoking + notes\n",
    "\n",
    "gender_encoder = OneHotEncoder(categories=[['Male', 'Female']], drop=None, handle_unknown='ignore')\n",
    "smoking_encoder = OneHotEncoder(categories=[['never', 'ever', 'current', 'not current', 'former']], drop=None, handle_unknown='ignore')\n",
    "\n",
    "smoking_imputer = SmokingImputer()\n",
    "\n",
    "preprocessor = ColumnTransformer(\n",
    "    transformers=[\n",
    "        ('drop', 'drop', drop_cols),\n",
    "        ('scaler', StandardScaler(), num_features),\n",
    "        ('genderEncoder', gender_encoder, cat_features),\n",
    "        ('smokingImputer', smoking_imputer, ['smoking_history']),\n",
    "        #('smokingEncoder', smoking_encoder, ['smoking_history'])\n",
    "    ],\n",
    "    remainder='passthrough'\n",
    ")\n",
    "# TODO moze kiedys zrobic z tego jeden pipeline\n",
    "\n",
    "steps = [('preprocessor', preprocessor)]\n",
    "pipeline = Pipeline(steps = steps)\n",
    "X_train_transformed = pipeline.fit_transform(X_train)\n",
    "\n",
    "# print(X_train_transformed[:5, :]) \n",
    "\n",
    "columns = preprocessor.get_feature_names_out()\n",
    "X_train_transformed_df = pd.DataFrame(X_train_transformed, columns=columns)\n",
    "\n",
    "preprocessor2 = ColumnTransformer(\n",
    "    transformers=[\n",
    "        ('smokingEncoder', smoking_encoder, ['smokingImputer__smoking_history'])\n",
    "    ],\n",
    "    remainder='passthrough'\n",
    ")\n",
    "pipeline2 = Pipeline(steps = [('preprocessor2', preprocessor2)])\n",
    "X_train_transformed = pipeline2.fit_transform(X_train_transformed_df)\n",
    "print(X_train_transformed[:5, :]) "
   ]
  }
 ],
 "metadata": {
  "kernelspec": {
   "display_name": "base",
   "language": "python",
   "name": "python3"
  },
  "language_info": {
   "codemirror_mode": {
    "name": "ipython",
    "version": 3
   },
   "file_extension": ".py",
   "mimetype": "text/x-python",
   "name": "python",
   "nbconvert_exporter": "python",
   "pygments_lexer": "ipython3",
   "version": "3.11.5"
  }
 },
 "nbformat": 4,
 "nbformat_minor": 5
}
