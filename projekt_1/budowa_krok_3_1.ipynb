{
 "cells": [
  {
   "cell_type": "code",
   "execution_count": 2,
   "metadata": {},
   "outputs": [
    {
     "name": "stderr",
     "output_type": "stream",
     "text": [
      "c:\\Users\\msado\\anaconda3\\Lib\\site-packages\\pandas\\core\\arrays\\masked.py:60: UserWarning: Pandas requires version '1.3.6' or newer of 'bottleneck' (version '1.3.5' currently installed).\n",
      "  from pandas.core import (\n"
     ]
    }
   ],
   "source": [
    "import pandas as pd\n",
    "import numpy as np\n",
    "import sklearn \n",
    "import seaborn as sns\n",
    "import matplotlib.pyplot as plt\n",
    "import matplotlib\n",
    "import warnings\n",
    "import xgboost\n",
    "warnings.filterwarnings('ignore')\n",
    "np.random.seed(32)\n",
    "import pickle\n",
    "from sklearn.preprocessing import StandardScaler, OneHotEncoder\n",
    "from sklearn.compose import ColumnTransformer\n",
    "from sklearn.pipeline import Pipeline\n",
    "from sklearn.base import BaseEstimator, TransformerMixin\n",
    "from sklearn.preprocessing import MultiLabelBinarizer\n",
    "from sklearn.preprocessing import FunctionTransformer\n",
    "from sklearn.feature_selection import SelectKBest, f_classif\n",
    "from sklearn.feature_selection import SelectKBest, VarianceThreshold, RFE\n",
    "from sklearn.linear_model import LogisticRegression\n",
    "from sklearn.metrics import roc_auc_score, precision_recall_curve, auc, confusion_matrix, make_scorer, recall_score, ConfusionMatrixDisplay, accuracy_score, fbeta_score\n",
    "from sklearn.neighbors import KNeighborsClassifier\n",
    "from sklearn.tree import DecisionTreeClassifier\n",
    "from sklearn.model_selection import RandomizedSearchCV\n",
    "from sklearn.ensemble import VotingClassifier, RandomForestClassifier, BaggingClassifier, AdaBoostClassifier, HistGradientBoostingClassifier\n",
    "from sklearn.decomposition import PCA\n",
    "from xgboost import XGBClassifier\n",
    "from sklearn.naive_bayes import GaussianNB\n",
    "from sklearn.model_selection import GridSearchCV\n",
    "from sklearn.utils.class_weight import compute_class_weight\n",
    "from sklearn.svm import SVC\n",
    "from sklearn.ensemble import StackingClassifier\n",
    "from sklearn.model_selection import RepeatedStratifiedKFold, cross_val_score"
   ]
  },
  {
   "cell_type": "code",
   "execution_count": 3,
   "metadata": {},
   "outputs": [],
   "source": [
    "with open(\"train.pkl\", \"rb\") as f:\n",
    "    X_train, y_train = pickle.load(f)"
   ]
  },
  {
   "cell_type": "code",
   "execution_count": 4,
   "metadata": {},
   "outputs": [],
   "source": [
    "with open(\"test.pkl\", \"rb\") as f:\n",
    "    X_test, y_test = pickle.load(f)"
   ]
  },
  {
   "cell_type": "code",
   "execution_count": 5,
   "metadata": {},
   "outputs": [],
   "source": [
    "class ClinicalNotesBinarizer(BaseEstimator, TransformerMixin):\n",
    "    def __init__(self):\n",
    "        self.mlb = MultiLabelBinarizer()\n",
    "    \n",
    "    def fit(self, X, y=None):\n",
    "        X = np.array(X).ravel() if np.array(X).ndim > 1 else np.array(X)\n",
    "        X = pd.Series(X).astype(str).str.lower().str.strip()\n",
    "        X = ' ' + X\n",
    "        X_cleaned = X.str.replace(r'\\.', ',', regex=True).str.replace(r'\\s+', '_', regex=True)\n",
    "        X_cleaned = X_cleaned.apply(lambda x: set(term for term in x.split(',') if term and term != '_'))\n",
    "        X_cleaned = [x for x in X_cleaned if x]\n",
    "        self.mlb.fit(X_cleaned)\n",
    "        return self\n",
    "    \n",
    "    def transform(self, X):\n",
    "        X = np.array(X).ravel() if np.array(X).ndim > 1 else np.array(X)\n",
    "        X = pd.Series(X).astype(str).str.lower().str.strip()\n",
    "        X = ' ' + X\n",
    "        X_cleaned = X.str.replace(r'\\.', ',', regex=True).str.replace(r'\\s+', '_', regex=True)\n",
    "        X_cleaned = X_cleaned.apply(lambda x: set(term for term in x.split(',') if term and term != '_'))\n",
    "        return self.mlb.transform(X_cleaned)\n",
    "    \n",
    "    def get_feature_names_out(self, input_features=None):\n",
    "        return self.mlb.classes_"
   ]
  },
  {
   "cell_type": "code",
   "execution_count": 6,
   "metadata": {},
   "outputs": [],
   "source": [
    "def clip_bmi(X):\n",
    "    X = X.copy()\n",
    "    X['bmi'] = np.clip(X['bmi'], None, 50)\n",
    "    return X"
   ]
  },
  {
   "cell_type": "code",
   "execution_count": 7,
   "metadata": {},
   "outputs": [],
   "source": [
    "class HighCorrelationRemover(BaseEstimator, TransformerMixin):\n",
    "    def __init__(self, threshold=0.95):\n",
    "        self.threshold = threshold\n",
    "        self.feature_names_out_ = None\n",
    "    \n",
    "    def fit(self, X, y=None):\n",
    "        X_df = pd.DataFrame(X)\n",
    "        corr_matrix = X_df.corr().abs()\n",
    "        self.to_keep_ = [True] * len(X_df.columns)\n",
    "        for i in range(len(corr_matrix.columns)):\n",
    "            for j in range(i):\n",
    "                if corr_matrix.iloc[i, j] > self.threshold and self.to_keep_[i]:\n",
    "                    self.to_keep_[i] = False\n",
    "        self.feature_names_out_ = [name for name, keep in zip(X_df.columns, self.to_keep_) if keep]\n",
    "        return self\n",
    "    \n",
    "    def transform(self, X):\n",
    "        X_df = pd.DataFrame(X)\n",
    "        return X_df.loc[:, self.to_keep_]\n",
    "    \n",
    "    def get_feature_names_out(self, input_features=None):\n",
    "        return self.feature_names_out_"
   ]
  },
  {
   "cell_type": "code",
   "execution_count": 13,
   "metadata": {},
   "outputs": [],
   "source": [
    "drop_cols = ['year', 'location']\n",
    "race_cols = [col for col in X_train.columns if col.startswith('race')]\n",
    "drop_cols.extend(race_cols)\n",
    "\n",
    "bin_features = ['hypertension', 'heart_disease']\n",
    "num_features = ['age', 'bmi', 'hbA1c_level', 'blood_glucose_level']\n",
    "cat_features = ['gender']\n",
    "\n",
    "preprocessor1 = ColumnTransformer(\n",
    "    transformers=[\n",
    "        ('drop', 'drop', drop_cols),\n",
    "        ('scaler', StandardScaler(), num_features),\n",
    "    ],\n",
    "    remainder='passthrough',\n",
    "    verbose_feature_names_out=True\n",
    ")\n",
    "\n",
    "preprocessor2 = ColumnTransformer(\n",
    "    transformers=[\n",
    "        ('genderEncoder', OneHotEncoder(categories=[['Male', 'Female']], drop=None, handle_unknown='ignore'), ['remainder__gender']),\n",
    "        ('smokingEncoder', OneHotEncoder(categories=[['never', 'ever', 'current', 'not current', 'former']], drop=None, handle_unknown='ignore'), ['remainder__smoking_history']),\n",
    "        ('clinicalNotesBinarizer', ClinicalNotesBinarizer(), ['remainder__clinical_notes'])\n",
    "    ],\n",
    "    remainder='passthrough',\n",
    "    verbose_feature_names_out=True\n",
    ")\n",
    "\n",
    "pipeline = Pipeline(steps=[\n",
    "    ('clip_bmi', FunctionTransformer(clip_bmi)),\n",
    "    ('preprocessor1', preprocessor1),\n",
    "    ('to_df1', FunctionTransformer(lambda X: pd.DataFrame(X, columns=preprocessor1.get_feature_names_out()))),\n",
    "    ('preprocessor2', preprocessor2),\n",
    "    ('to_df2', FunctionTransformer(lambda X: pd.DataFrame(X, columns=preprocessor2.get_feature_names_out()))),\n",
    "    ('remove_high_corr', HighCorrelationRemover(threshold=0.95)),\n",
    "    ('model', LogisticRegression())\n",
    "])"
   ]
  },
  {
   "cell_type": "code",
   "execution_count": 22,
   "metadata": {},
   "outputs": [],
   "source": [
    "def specificity_score(cm):\n",
    "    tn, fp, fn, tp = cm.ravel() \n",
    "    return tn / (tn + fp)"
   ]
  },
  {
   "cell_type": "code",
   "execution_count": 27,
   "metadata": {},
   "outputs": [],
   "source": [
    "def pipeline_fit(model):\n",
    "    pipeline.set_params(model=model)\n",
    "    pipeline.fit(X_train, y_train)"
   ]
  },
  {
   "cell_type": "code",
   "execution_count": 28,
   "metadata": {},
   "outputs": [],
   "source": [
    "def scores_model(model):\n",
    "    pipeline_fit(model)\n",
    "    \n",
    "    y_train_pred = pipeline.predict(X_train)\n",
    "    y_test_pred = pipeline.predict(X_test)\n",
    "    y_train_scores = pipeline.predict_proba(X_train)[:, 1]\n",
    "    y_test_scores = pipeline.predict_proba(X_test)[:, 1] \n",
    "    \n",
    "    precision_train, recall_train, _ = precision_recall_curve(y_train, y_train_scores)\n",
    "    precision_test, recall_test, _ = precision_recall_curve(y_test, y_test_scores)\n",
    "    \n",
    "    train_roc_auc = roc_auc_score(y_train, y_train_pred)\n",
    "    test_roc_auc = roc_auc_score(y_test, y_test_pred)\n",
    "    train_pr_auc = auc(recall_train, precision_train)  \n",
    "    test_pr_auc = auc(recall_test, precision_test)  \n",
    "    train_recall = recall_score(y_train, y_train_pred)\n",
    "    test_recall = recall_score(y_test, y_test_pred)\n",
    "    train_prec = accuracy_score(y_train, y_train_pred)\n",
    "    test_prec = accuracy_score(y_test, y_test_pred)\n",
    "    cfm_train = confusion_matrix(y_train, y_train_pred)\n",
    "    cfm = confusion_matrix(y_test, y_test_pred)\n",
    "    train_f2 = fbeta_score(y_train, y_train_pred, beta=2)\n",
    "    test_f2 = fbeta_score(y_test, y_test_pred, beta=2)\n",
    "    train_specificity = specificity_score(cfm_train)\n",
    "    test_specificity = specificity_score(cfm)\n",
    "    \n",
    "    print(\"\\nModel Performance:\")\n",
    "    print(f\"Training Recall Score: {train_recall:.4f}\")\n",
    "    print(f\"Test Recall Score: {test_recall:.4f}\")\n",
    "    print(f\"Training F2 Score: {train_f2:.4f}\")\n",
    "    print(f\"Test F2 Score: {test_f2:.4f}\")\n",
    "    print(f\"Training Specificity Score: {train_specificity:.4f}\")\n",
    "    print(f\"Test Specificity Score: {test_specificity:.4f}\")\n",
    "    print(f\"Training ROC-AUC: {train_roc_auc:.4f}\")\n",
    "    print(f\"Test ROC-AUC: {test_roc_auc:.4f}\")\n",
    "    print(f\"Training PR-AUC: {train_pr_auc:.4f}\")\n",
    "    print(f\"Test PR-AUC: {test_pr_auc:.4f}\")\n",
    "    print(f\"Training Accuracy Score: {train_prec:.4f}\")\n",
    "    print(f\"Test Accuracy Score: {test_prec:.4f}\")\n",
    "    print(\"Test Confusion Matrix:\\n\", cfm)\n",
    "    disp = ConfusionMatrixDisplay(cfm)\n",
    "    disp.plot()\n",
    "    plt.show()\n",
    "    return (train_roc_auc, test_roc_auc, train_pr_auc, test_pr_auc, train_recall, test_recall, train_f2, test_f2, train_prec, test_prec, train_specificity, test_specificity)"
   ]
  },
  {
   "cell_type": "code",
   "execution_count": 29,
   "metadata": {},
   "outputs": [
    {
     "name": "stdout",
     "output_type": "stream",
     "text": [
      "\n",
      "Model Performance:\n",
      "Training Recall Score: 0.9342\n",
      "Test Recall Score: 0.9261\n",
      "Training F2 Score: 0.7712\n",
      "Test F2 Score: 0.7686\n",
      "Training Specificity Score: 0.8957\n",
      "Test Specificity Score: 0.8979\n",
      "Training ROC-AUC: 0.9150\n",
      "Test ROC-AUC: 0.9120\n",
      "Training PR-AUC: 0.8857\n",
      "Test PR-AUC: 0.8862\n",
      "Training Accuracy Score: 0.8990\n",
      "Test Accuracy Score: 0.9003\n",
      "Test Confusion Matrix:\n",
      " [[17254  1961]\n",
      " [  132  1653]]\n"
     ]
    },
    {
     "data": {
      "image/png": "[encoded data removed]",
      "text/plain": [
       "<Figure size 640x480 with 2 Axes>"
      ]
     },
     "metadata": {},
     "output_type": "display_data"
    }
   ],
   "source": [
    "gboost = HistGradientBoostingClassifier(learning_rate=0.01, class_weight='balanced', random_state=32)\n",
    "_ = scores_model(gboost)"
   ]
  },
  {
   "cell_type": "code",
   "execution_count": 35,
   "metadata": {},
   "outputs": [
    {
     "name": "stdout",
     "output_type": "stream",
     "text": [
      "Best parameters: {'min_samples_leaf': 12, 'max_features': 0.8, 'max_depth': 2}\n",
      "\n",
      "Best model scores:\n",
      "\n",
      "Model Performance:\n",
      "Training Recall Score: 0.6639\n",
      "Test Recall Score: 0.6930\n",
      "Training F2 Score: 0.7117\n",
      "Test F2 Score: 0.7383\n",
      "Training Specificity Score: 1.0000\n",
      "Test Specificity Score: 1.0000\n",
      "Training ROC-AUC: 0.8319\n",
      "Test ROC-AUC: 0.8465\n",
      "Training PR-AUC: 0.8395\n",
      "Test PR-AUC: 0.8512\n",
      "Training Accuracy Score: 0.9714\n",
      "Test Accuracy Score: 0.9739\n",
      "Test Confusion Matrix:\n",
      " [[19215     0]\n",
      " [  548  1237]]\n"
     ]
    },
    {
     "data": {
      "image/png": "[encoded data removed]",
      "text/plain": [
       "<Figure size 640x480 with 2 Axes>"
      ]
     },
     "metadata": {},
     "output_type": "display_data"
    }
   ],
   "source": [
    "param_dist = {\"max_depth\" : range(2, 20),\n",
    "              \"max_features\" : np.arange(0.1, 1.1, 0.1),\n",
    "              \"min_samples_leaf\" : range(2, 20)}\n",
    "\n",
    "scorer = make_scorer(fbeta_score)\n",
    "\n",
    "random_search_boost = RandomizedSearchCV(estimator=gboost, param_distributions=param_dist, n_iter=50,\n",
    "                                   cv=5, scoring=scorer, random_state=32)\n",
    "\n",
    "pipeline_fit(random_search_boost)\n",
    "\n",
    "print(\"Best parameters:\", random_search_boost.best_params_)\n",
    "\n",
    "boost_best = random_search_boost.best_estimator_\n",
    "\n",
    "print(\"\\nBest model scores:\")\n",
    "_ = scores_model(boost_best)"
   ]
  }
 ],
 "metadata": {
  "kernelspec": {
   "display_name": "base",
   "language": "python",
   "name": "python3"
  },
  "language_info": {
   "codemirror_mode": {
    "name": "ipython",
    "version": 3
   },
   "file_extension": ".py",
   "mimetype": "text/x-python",
   "name": "python",
   "nbconvert_exporter": "python",
   "pygments_lexer": "ipython3",
   "version": "3.11.5"
  }
 },
 "nbformat": 4,
 "nbformat_minor": 2
}
